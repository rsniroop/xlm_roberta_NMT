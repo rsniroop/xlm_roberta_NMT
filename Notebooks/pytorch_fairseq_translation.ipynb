{
  "nbformat": 4,
  "nbformat_minor": 0,
  "metadata": {
    "colab": {
      "name": "pytorch_fairseq_translation.ipynb",
      "provenance": []
    },
    "kernelspec": {
      "name": "python3",
      "display_name": "Python 3"
    },
    "accelerator": "GPU"
  },
  "cells": [
    {
      "cell_type": "code",
      "metadata": {
        "id": "AbHrKZQ2-IXE",
        "colab_type": "code",
        "colab": {
          "base_uri": "https://localhost:8080/",
          "height": 513
        },
        "outputId": "e9f4d611-b544-47c6-b43a-3fb3e35e14fb"
      },
      "source": [
        "%%bash\n",
        "pip install fastBPE regex requests sacremoses subword_nmt"
      ],
      "execution_count": 1,
      "outputs": [
        {
          "output_type": "stream",
          "text": [
            "Collecting fastBPE\n",
            "  Downloading https://files.pythonhosted.org/packages/e1/37/f97181428a5d151501b90b2cebedf97c81b034ace753606a3cda5ad4e6e2/fastBPE-0.1.0.tar.gz\n",
            "Requirement already satisfied: regex in /usr/local/lib/python3.6/dist-packages (2019.12.20)\n",
            "Requirement already satisfied: requests in /usr/local/lib/python3.6/dist-packages (2.21.0)\n",
            "Collecting sacremoses\n",
            "  Downloading https://files.pythonhosted.org/packages/a6/b4/7a41d630547a4afd58143597d5a49e07bfd4c42914d8335b2a5657efc14b/sacremoses-0.0.38.tar.gz (860kB)\n",
            "Collecting subword_nmt\n",
            "  Downloading https://files.pythonhosted.org/packages/74/60/6600a7bc09e7ab38bc53a48a20d8cae49b837f93f5842a41fe513a694912/subword_nmt-0.3.7-py2.py3-none-any.whl\n",
            "Requirement already satisfied: certifi>=2017.4.17 in /usr/local/lib/python3.6/dist-packages (from requests) (2019.11.28)\n",
            "Requirement already satisfied: idna<2.9,>=2.5 in /usr/local/lib/python3.6/dist-packages (from requests) (2.8)\n",
            "Requirement already satisfied: chardet<3.1.0,>=3.0.2 in /usr/local/lib/python3.6/dist-packages (from requests) (3.0.4)\n",
            "Requirement already satisfied: urllib3<1.25,>=1.21.1 in /usr/local/lib/python3.6/dist-packages (from requests) (1.24.3)\n",
            "Requirement already satisfied: six in /usr/local/lib/python3.6/dist-packages (from sacremoses) (1.12.0)\n",
            "Requirement already satisfied: click in /usr/local/lib/python3.6/dist-packages (from sacremoses) (7.1.1)\n",
            "Requirement already satisfied: joblib in /usr/local/lib/python3.6/dist-packages (from sacremoses) (0.14.1)\n",
            "Requirement already satisfied: tqdm in /usr/local/lib/python3.6/dist-packages (from sacremoses) (4.38.0)\n",
            "Building wheels for collected packages: fastBPE, sacremoses\n",
            "  Building wheel for fastBPE (setup.py): started\n",
            "  Building wheel for fastBPE (setup.py): finished with status 'done'\n",
            "  Created wheel for fastBPE: filename=fastBPE-0.1.0-cp36-cp36m-linux_x86_64.whl size=477561 sha256=01c46f9e7498e93a14f9fda59f526002eb2b2017a78c3ebfc1e3d17bce96ce16\n",
            "  Stored in directory: /root/.cache/pip/wheels/f3/0c/9c/fc62058b4d473a5602bcd3d3edfece796f123875379ea82d79\n",
            "  Building wheel for sacremoses (setup.py): started\n",
            "  Building wheel for sacremoses (setup.py): finished with status 'done'\n",
            "  Created wheel for sacremoses: filename=sacremoses-0.0.38-cp36-none-any.whl size=884628 sha256=a8787e1bca76449c60c9a2fe6a812d23f02ed1b17b2e94757ecd6a0f60943466\n",
            "  Stored in directory: /root/.cache/pip/wheels/6d/ec/1a/21b8912e35e02741306f35f66c785f3afe94de754a0eaf1422\n",
            "Successfully built fastBPE sacremoses\n",
            "Installing collected packages: fastBPE, sacremoses, subword-nmt\n",
            "Successfully installed fastBPE-0.1.0 sacremoses-0.0.38 subword-nmt-0.3.7\n"
          ],
          "name": "stdout"
        }
      ]
    },
    {
      "cell_type": "markdown",
      "metadata": {
        "id": "Qymm3xMI-IXH",
        "colab_type": "text"
      },
      "source": [
        "### English-to-French Translation"
      ]
    },
    {
      "cell_type": "code",
      "metadata": {
        "id": "SoTOZVOY-IXI",
        "colab_type": "code",
        "colab": {
          "base_uri": "https://localhost:8080/",
          "height": 85
        },
        "outputId": "6af95473-50d3-44ac-f645-34b19bc7b844"
      },
      "source": [
        "import torch\n",
        "\n",
        "# Load an En-Fr Transformer model trained on WMT'14 data :\n",
        "en2fr = torch.hub.load('pytorch/fairseq', 'transformer.wmt14.en-fr', tokenizer='moses', bpe='subword_nmt')\n",
        "\n",
        "en2fr.cuda()\n",
        "\n",
        "# Manually tokenize:\n",
        "en_toks = en2fr.tokenize('Hello world!')\n",
        "#assert en_toks == 'Hello world !'\n",
        "\n",
        "# Manually apply BPE:\n",
        "en_bpe = en2fr.apply_bpe(en_toks)\n",
        "#assert en_bpe == 'H@@ ello world !'\n",
        "\n",
        "# Manually binarize:\n",
        "en_bin = en2fr.binarize(en_bpe)\n",
        "#assert en_bin.tolist() == [329, 14044, 682, 812, 2]\n",
        "\n",
        "# Generate five translations with top-k sampling:\n",
        "fr_bin = en2fr.generate(en_bin, beam=5, sampling=True, sampling_topk=20)\n",
        "#assert len(fr_bin) == 5\n",
        "\n",
        "# Convert one of the samples to a string and detokenize\n",
        "fr_sample = fr_bin[0]['tokens']\n",
        "fr_bpe = en2fr.string(fr_sample)\n",
        "fr_toks = en2fr.remove_bpe(fr_bpe)\n",
        "fr = en2fr.detokenize(fr_toks)\n",
        "\n",
        "\n",
        "print(f'\\n\\nTranslated_sentence : {fr}')"
      ],
      "execution_count": 7,
      "outputs": [
        {
          "output_type": "stream",
          "text": [
            "Using cache found in /root/.cache/torch/hub/pytorch_fairseq_master\n"
          ],
          "name": "stderr"
        },
        {
          "output_type": "stream",
          "text": [
            "\n",
            "\n",
            "Translated_sentence : Bonjour à tous !\n"
          ],
          "name": "stdout"
        }
      ]
    },
    {
      "cell_type": "code",
      "metadata": {
        "id": "OyE5WvhiOhfn",
        "colab_type": "code",
        "colab": {
          "base_uri": "https://localhost:8080/",
          "height": 54
        },
        "outputId": "197e3a53-4db7-4fc6-b4d1-e71d6028a635"
      },
      "source": [
        "txt = \"I’m stuck at home and wanted to play in the kitchen, so I dug out my rarely-used KitchenAid Pasta Extruder. I had tried several dough recipes in the past, but they never worked very well. This one, however, was perfect. I made the mistake of doubling the recipe, and it was too much for my 7-quart mixer. The bowl kept popping off the rear clip, so I ended up doing most of the kneading by hand. I’ll try making it 1.5X next time. I used half the dough for bucatini and the other for fusilli. They’re perfect! Thanks for this super simple recipe.\"\n",
        "\n",
        "en_toks = en2fr.tokenize(txt)\n",
        "#assert en_toks == 'Hello world !'\n",
        "\n",
        "# Manually apply BPE:\n",
        "en_bpe = en2fr.apply_bpe(en_toks)\n",
        "#assert en_bpe == 'H@@ ello world !'\n",
        "\n",
        "# Manually binarize:\n",
        "en_bin = en2fr.binarize(en_bpe)\n",
        "#assert en_bin.tolist() == [329, 14044, 682, 812, 2]\n",
        "\n",
        "# Generate five translations with top-k sampling:\n",
        "fr_bin = en2fr.generate(en_bin, beam=5, sampling=True, sampling_topk=20)\n",
        "#assert len(fr_bin) == 5\n",
        "\n",
        "# Convert one of the samples to a string and detokenize\n",
        "fr_sample = fr_bin[0]['tokens']\n",
        "fr_bpe = en2fr.string(fr_sample)\n",
        "fr_toks = en2fr.remove_bpe(fr_bpe)\n",
        "fr = en2fr.detokenize(fr_toks)\n",
        "print(fr)"
      ],
      "execution_count": 6,
      "outputs": [
        {
          "output_type": "stream",
          "text": [
            "Je suis resté chez moi et je voulais jouer dans la cuisine, alors j'ai exhalé mon Extrudeuse de pâtes KitchenAid que l'on n'utilisait pas souvent. J'avais essayé quelques recettes de pâte dans le passé, mais elles ne marchaient pas très bien. Celle-ci cependant était parfaite. Je me suis trompé en doublant la recette, et c'était trop pour mon mixeur de sept pintes. Ma cuvette a continué à détacher la pince arrière et j'ai fini par la pétrir à la main. Je vais essayer de la faire 1.5 fois la prochaine fois. I used half the recipe for bucatini and the other for fusilli. They re perfect ! Merci pour cette recette supersimple.\n"
          ],
          "name": "stdout"
        }
      ]
    },
    {
      "cell_type": "markdown",
      "metadata": {
        "id": "T-xcvk9V-IXS",
        "colab_type": "text"
      },
      "source": [
        "### References\n",
        "\n",
        "- [Attention Is All You Need][1]\n",
        "- [Scaling Neural Machine Translation][3]\n",
        "- [Understanding Back-Translation at Scale][4]\n",
        "- [Facebook FAIR's WMT19 News Translation Task Submission][6]\n",
        "\n",
        "\n",
        "[1]: https://arxiv.org/abs/1706.03762\n",
        "[2]: https://code.fb.com/ai-research/scaling-neural-machine-translation-to-bigger-data-sets-with-faster-training-and-inference/\n",
        "[3]: https://arxiv.org/abs/1806.00187\n",
        "[4]: https://arxiv.org/abs/1808.09381\n",
        "[5]: http://www.statmt.org/wmt18/translation-task.html\n",
        "[6]: https://arxiv.org/abs/1907.06616\n",
        "[7]: https://ai.facebook.com/blog/facebook-leads-wmt-translation-competition/\n",
        "[8]: http://www.statmt.org/wmt19/translation-task.html"
      ]
    }
  ]
}