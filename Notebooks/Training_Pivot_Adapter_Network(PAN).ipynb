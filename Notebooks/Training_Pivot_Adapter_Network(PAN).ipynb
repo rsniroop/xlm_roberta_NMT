{
  "nbformat": 4,
  "nbformat_minor": 0,
  "metadata": {
    "colab": {
      "name": "Training_Pivot Adapter Network(PAN).ipynb",
      "provenance": [],
      "collapsed_sections": [],
      "machine_shape": "hm"
    },
    "kernelspec": {
      "name": "python3",
      "display_name": "Python 3"
    }
  },
  "cells": [
    {
      "cell_type": "code",
      "metadata": {
        "id": "F9meqqtunCB8",
        "colab_type": "code",
        "colab": {}
      },
      "source": [
        "!pip install -U -q PyDrive\n",
        "!pip install transformers fairseq sentencepiece fastBPE regex requests sacremoses subword_nmt\n",
        "\n",
        "!git clone https://github.com/shshnk94/xencoder.git\n",
        "\n",
        "#Vanilla Transformer as in Vaswani et. al\n",
        "!git clone https://github.com/moses-smt/mosesdecoder.git\n",
        "!git clone https://github.com/rsennrich/subword-nmt.git\n",
        "!wget https://dl.fbaipublicfiles.com/fairseq/models/wmt14.en-fr.joined-dict.transformer.tar.bz2\n",
        "!tar -xvf wmt14.en-fr.joined-dict.transformer.tar.bz2"
      ],
      "execution_count": 0,
      "outputs": []
    },
    {
      "cell_type": "code",
      "metadata": {
        "id": "8v210ckrVi2w",
        "colab_type": "code",
        "colab": {}
      },
      "source": [
        "from pydrive.auth import GoogleAuth\n",
        "from pydrive.drive import GoogleDrive\n",
        "from google.colab import auth\n",
        "from oauth2client.client import GoogleCredentials\n",
        "from googleapiclient.http import MediaIoBaseDownload\n",
        "from googleapiclient.discovery import build\n",
        "\n",
        "import h5py\n",
        "import os, re\n",
        "import numpy as np\n",
        "import pandas as pd\n",
        "import torch\n",
        "from torch.utils.data import Dataset, DataLoader\n",
        "from torch.nn.utils.rnn import pad_sequence\n",
        "from fairseq.models.transformer import TransformerModel\n",
        "from transformers import XLMRobertaModel\n",
        "from xencoder.xencoder.data.dataloader import ParallelDataset, PadSequence"
      ],
      "execution_count": 0,
      "outputs": []
    },
    {
      "cell_type": "code",
      "metadata": {
        "id": "fsfveqMvVugA",
        "colab_type": "code",
        "colab": {}
      },
      "source": [
        "# Read dataset - sampled data from original dataset comprising of 12,000 sentences for the purpose of training PAN\n",
        "def load_data(file_id, file_name):\n",
        "  \n",
        "  auth.authenticate_user()\n",
        "  gauth = GoogleAuth()\n",
        "  gauth.credentials = GoogleCredentials.get_application_default()\n",
        "  drive = GoogleDrive(gauth)\n",
        "\n",
        "  if not os.path.exists(\"./data\"):\n",
        "    os.mkdir(\"data\")\n",
        "\n",
        "  handle = drive.CreateFile({'id': file_id})\n",
        "  handle.GetContentFile('data/' + file_name)\n",
        "\n",
        "load_data('1CZKEkagdx0-lID9MazgHpoK-0A09tDm7', 'sampled.hi.h5')\n",
        "load_data('151lHgBxpGjD_iuIVnypJN6a_V1PPg7kU', 'sampled.en.h5')"
      ],
      "execution_count": 0,
      "outputs": []
    },
    {
      "cell_type": "code",
      "metadata": {
        "id": "1r4HG3jTV21G",
        "colab_type": "code",
        "colab": {}
      },
      "source": [
        "# Read sampled dataset and split into training and validation sets\n",
        "src = h5py.File('data/sampled.hi.h5', 'r').get('dataset')\n",
        "tgt = h5py.File('data/sampled.en.h5', 'r').get('dataset')\n",
        "\n",
        "print(src.shape)\n",
        "print(tgt.shape)\n",
        "\n",
        "msk = np.random.rand(src.shape[0]) < 0.9\n",
        "src_train, tgt_train = src[msk], tgt[msk]\n",
        "src_test, tgt_test = src[~msk], tgt[~msk]\n",
        "\n",
        "# #Sampling\n",
        "# src_train, tgt_train = src_train[:10000], tgt_train[:10000]\n",
        "# src_test, tgt_test = src_test[10000:], tgt_test[10000:]\n",
        "\n",
        "h5py.File('data/src_train.h5', 'w').create_dataset('dataset', (src_train.shape[0],), data=src_train)\n",
        "h5py.File('data/tgt_train.h5', 'w').create_dataset('dataset', (tgt_train.shape[0],), data=tgt_train)\n",
        "h5py.File('data/src_test.h5', 'w').create_dataset('dataset', (src_test.shape[0],), data=src_test)\n",
        "h5py.File('data/tgt_test.h5', 'w').create_dataset('dataset', (tgt_test.shape[0],), data=tgt_test)\n",
        "\n",
        "print(h5py.File('data/src_train.h5', 'r').get('dataset').shape)\n",
        "print(h5py.File('data/tgt_train.h5', 'r').get('dataset').shape)\n",
        "print(h5py.File('data/src_test.h5', 'r').get('dataset').shape)\n",
        "print(h5py.File('data/tgt_test.h5', 'r').get('dataset').shape)"
      ],
      "execution_count": 0,
      "outputs": []
    },
    {
      "cell_type": "code",
      "metadata": {
        "id": "OLrlsmubnMjd",
        "colab_type": "code",
        "colab": {}
      },
      "source": [
        "# Load data using dataloader - batch size set to 128\n",
        "pad_sequence = PadSequence(1)\n",
        "train_loader = DataLoader(ParallelDataset('data/src_train.h5', 'data/tgt_train.h5'),\n",
        "                          shuffle=True,\n",
        "                          batch_size=128,\n",
        "                          collate_fn=pad_sequence)\n",
        "\n",
        "val_loader = DataLoader(ParallelDataset('data/src_test.h5', 'data/tgt_test.h5'),\n",
        "                        shuffle=True,\n",
        "                        batch_size=128,\n",
        "                        collate_fn=pad_sequence)"
      ],
      "execution_count": 0,
      "outputs": []
    },
    {
      "cell_type": "code",
      "metadata": {
        "id": "oRH96I1PqTnC",
        "colab_type": "code",
        "colab": {}
      },
      "source": [
        "# Pivot Adapter Network Model \n",
        "# XLMR encoder is used for source\n",
        "# Pivot encoder is that of fairseq\n",
        "# We introduce non-linearity by making using of a neural network with one hidden layer. ReLU activation is used in the network.\n",
        "# The weights for the 2 linear layers are initialized using the xavier normal initialization.\n",
        "import torch.nn as nn\n",
        "\n",
        "class PivotAdapterNetwork(nn.Module):\n",
        "\n",
        "    def __init__(self, src_encoder, tgt_encoder, pad_token_id):\n",
        "\n",
        "        super(PivotAdapterNetwork, self).__init__()\n",
        "\n",
        "        self.src_encoder = src_encoder\n",
        "        self.tgt_encoder = tgt_encoder\n",
        "        self.pad_token_id = pad_token_id\n",
        "\n",
        "        self.pan = nn.Sequential(nn.Linear(1024, 768), \n",
        "                                 nn.ReLU(), \n",
        "                                 nn.Linear(768, 1024)\n",
        "                                 )\n",
        "        self.pan.apply(self._init_weights)\n",
        "\n",
        "    def _init_weights(self, m):\n",
        "      if isinstance(m, nn.Linear):\n",
        "        nn.init.xavier_normal_(m.weight)\n",
        "        m.bias.data.fill_(0.01)\n",
        "\n",
        "    def forward(self, source, target):\n",
        "\n",
        "        source = self.src_encoder(source)[0].mean(axis=1)\n",
        "        source = self.pan(source)\n",
        "\n",
        "        lengths = (target != self.pad_token_id).sum(axis=1)\n",
        "        target = self.tgt_encoder(target, lengths)[0].transpose(0,1).mean(axis=1)\n",
        "\n",
        "        return source, target"
      ],
      "execution_count": 0,
      "outputs": []
    },
    {
      "cell_type": "code",
      "metadata": {
        "id": "JirpEpswWN9_",
        "colab_type": "code",
        "colab": {}
      },
      "source": [
        "# Instantiate model by passing required encoders.\n",
        "def build_model():\n",
        "\n",
        "  src_encoder = XLMRobertaModel.from_pretrained('xlm-roberta-large')\n",
        "\n",
        "  en2fr = TransformerModel.from_pretrained('wmt14.en-fr.joined-dict.transformer/',\n",
        "                                           checkpoint_file='model.pt',\n",
        "                                           bpe='subword_nmt',\n",
        "                                           bpe_codes='wmt14.en-fr.joined-dict.transformer/bpecodes')\n",
        "  tgt_encoder = [model for name, model in en2fr.named_modules() if name == 'models.0.encoder'][0]\n",
        "\n",
        "  model = PivotAdapterNetwork(src_encoder, tgt_encoder, 1)\n",
        "\n",
        "  return model"
      ],
      "execution_count": 0,
      "outputs": []
    },
    {
      "cell_type": "code",
      "metadata": {
        "id": "ErhGUs2irMX3",
        "colab_type": "code",
        "colab": {}
      },
      "source": [
        "# This is for the purpose of plotting the training and validation loss.\n",
        "!pip install tensorboard\n",
        "%load_ext tensorboard\n",
        "from torch.utils.tensorboard import SummaryWriter\n",
        "\n",
        "writer = SummaryWriter('logs/')"
      ],
      "execution_count": 0,
      "outputs": []
    },
    {
      "cell_type": "code",
      "metadata": {
        "id": "eSOCKVFxbPu1",
        "colab_type": "code",
        "colab": {}
      },
      "source": [
        "from google.colab import drive\n",
        "drive.mount('/content/gdrive')\n",
        "# !ls '/content/gdrive/My Drive'"
      ],
      "execution_count": 0,
      "outputs": []
    },
    {
      "cell_type": "code",
      "metadata": {
        "id": "NucC6yuAbtB_",
        "colab_type": "code",
        "colab": {}
      },
      "source": [
        "# To store model checkpoint\n",
        "model_name = 'model.ckpt'\n",
        "model_path = F\"/content/gdrive/My Drive/NLP Project/{model_name}\" \n",
        "path = \"/content/gdrive/My Drive/NLP Project/\"\n",
        "# model_rpath = F\"/content/gdrive/My Drive/NLP Project/model_1e5.ckpt\""
      ],
      "execution_count": 0,
      "outputs": []
    },
    {
      "cell_type": "code",
      "metadata": {
        "id": "1v_V3aDgG8PB",
        "colab_type": "code",
        "colab": {}
      },
      "source": [
        "# Call the build model functionality\n",
        "from time import time\n",
        "import pickle as pkl\n",
        "\n",
        "seed_val = 42\n",
        "np.random.seed(seed_val)\n",
        "torch.manual_seed(seed_val)\n",
        "torch.cuda.manual_seed_all(seed_val)\n",
        "\n",
        "device = torch.device(\"cuda\") if torch.cuda.is_available() else torch.device(\"cpu\")\n",
        "\n",
        "writer = SummaryWriter('logs/')\n",
        "best_valid_loss = float('inf')\n",
        "training_loss_values = []\n",
        "validation_loss_values = []\n",
        "\n",
        "model = build_model()\n",
        "\n",
        "# model = torch.load(model_rpath)\n",
        "model.src_encoder.eval()\n",
        "model.tgt_encoder.eval()\n",
        "\n",
        "for name, param in model.named_parameters():\n",
        "    param.requires_grad = False if 'encoder' in name else True"
      ],
      "execution_count": 0,
      "outputs": []
    },
    {
      "cell_type": "code",
      "metadata": {
        "id": "M3h1OyY2rT19",
        "colab_type": "code",
        "colab": {}
      },
      "source": [
        "# Start of training loop. We are using Mean Square Error as loss function. Learning rate is 1e^-6. Adam optimizer is used.\n",
        "# 90 percent of training data is used in the training and remaining 10 percent used in Validation\n",
        "criterion = nn.MSELoss(reduction='mean')\n",
        "optimizer = torch.optim.Adam(model.parameters(), lr=1e-6)\n",
        "\n",
        "for epoch in range(100):\n",
        "\n",
        "    model.train()\n",
        "    print('======== Epoch ========', epoch)\n",
        "    start_time = time()\n",
        "    total_loss = 0\n",
        "\t\t  \n",
        "    for source, target in train_loader:\n",
        "\n",
        "        model.zero_grad()        \n",
        "        source, target = model(source, target)\n",
        "        # print(model)\n",
        "        #l1_weight = model.pan[0].weight\n",
        "        #l2_weight = model.pan[2].weight\n",
        "        # fin_weight = torch.mm(linear1_weight, linear2_weight)\n",
        "        \n",
        "        loss = criterion(source, target)\n",
        "  \n",
        "        # l1_reg = torch.norm(((torch.mm(torch.transpose(fin_weight, 0, 1), fin_weight) - identity)), 1)\n",
        "        # loss += l1_reg\n",
        "\n",
        "        total_loss += loss.item()\n",
        "\n",
        "        loss.backward()\n",
        "\n",
        "        optimizer.step()\n",
        "\t\t  \n",
        "    avg_train_loss = total_loss / len(train_loader)\n",
        "    training_loss_values.append(avg_train_loss)\n",
        "\n",
        "    writer.add_scalar('Train/Loss', avg_train_loss, epoch)\n",
        "\n",
        "    print(\"Average training loss: {0:.2f}\".format(avg_train_loss))\n",
        "    print(\"Running Validation...\")\n",
        "\n",
        "    model.eval()\n",
        "    \n",
        "    eval_loss = 0\n",
        "    nb_eval_steps = 0\n",
        "\n",
        "    for source, target in val_loader:\n",
        "\t\t\t\n",
        "      source, target = model(source, target)\n",
        "      with torch.no_grad():        \n",
        "        loss = criterion(source, target)\n",
        "        eval_loss += loss\n",
        "        nb_eval_steps += 1\n",
        "    \n",
        "    avg_valid_loss = eval_loss/nb_eval_steps\n",
        "    validation_loss_values.append(avg_valid_loss)\n",
        "\n",
        "    # if avg_valid_loss < best_valid_loss:\n",
        "    #   best_valid_loss = avg_valid_loss\n",
        "      # l1_weight = model.pan[0].weight\n",
        "      # l2_weight = model.pan[2].weight\n",
        "      \n",
        "      # with open(path + 'l1_weight.pkl', 'wb') as handle1:\n",
        "      #   pkl.dump(l1_weight, handle1)\n",
        "      # with open(path + 'l2_weight.pkl', 'wb') as handle2:\n",
        "      #   pkl.dump(l2_weight, handle2)\n",
        "      # handle1.close()\n",
        "      # handle2.close()\n",
        "      # torch.save(model, 'model.ckpt')\n",
        "    #   torch.save(model, model_path)\n",
        "\n",
        "    writer.add_scalar('Valid/Loss', avg_valid_loss, epoch)\n",
        "    writer.flush()\n",
        "\n",
        "    print(\"Average validation loss: {0:.2f}\".format(avg_valid_loss))\n",
        "    print(\"Time taken by epoch: {0:.2f}\".format(time() - start_time))\n",
        "\n",
        "writer.close()"
      ],
      "execution_count": 0,
      "outputs": []
    },
    {
      "cell_type": "code",
      "metadata": {
        "id": "IPpANdC1r6Ba",
        "colab_type": "code",
        "colab": {}
      },
      "source": [
        "# Plot training and validation loss using tensorboard\n",
        "%tensorboard --logdir=logs/"
      ],
      "execution_count": 0,
      "outputs": []
    },
    {
      "cell_type": "code",
      "metadata": {
        "id": "QPLS-oUW75gy",
        "colab_type": "code",
        "outputId": "54430f59-d2d6-49fe-be30-4f54ba4d48be",
        "colab": {
          "base_uri": "https://localhost:8080/",
          "height": 334
        }
      },
      "source": [
        "# Plot training and validation loss using matplotlib\n",
        "import matplotlib.pyplot as plt\n",
        "\n",
        "fig, ax = plt.subplots(1,1)\n",
        "fig.set_size_inches(6, 5)\n",
        "plt.plot([0.43, 0.4, 0.37, 0.34, 0.31, 0.29, 0.27, 0.25], label='Training Loss')\n",
        "#plt.plot(validation_loss_values, label='Validation Loss')\n",
        "plt.xlabel('Epochs')\n",
        "plt.ylabel('Loss')\n",
        "plt.legend()\n",
        "\n",
        "plt.show()"
      ],
      "execution_count": 2,
      "outputs": [
        {
          "output_type": "display_data",
          "data": {
            "image/png": "[encoded data removed]",
            "text/plain": [
              "<Figure size 432x360 with 1 Axes>"
            ]
          },
          "metadata": {
            "tags": [],
            "needs_background": "light"
          }
        }
      ]
    }
  ]
}